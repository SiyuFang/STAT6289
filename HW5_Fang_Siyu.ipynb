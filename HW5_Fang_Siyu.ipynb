{
  "nbformat": 4,
  "nbformat_minor": 0,
  "metadata": {
    "colab": {
      "name": "Untitled7.ipynb",
      "provenance": [],
      "collapsed_sections": [],
      "authorship_tag": "ABX9TyNKIez0BxYfU4lOgkRsm1LN",
      "include_colab_link": true
    },
    "kernelspec": {
      "name": "python3",
      "display_name": "Python 3"
    },
    "accelerator": "GPU"
  },
  "cells": [
    {
      "cell_type": "markdown",
      "metadata": {
        "id": "view-in-github",
        "colab_type": "text"
      },
      "source": [
        "<a href=\"https://colab.research.google.com/github/SiyuFang/STAT6289/blob/master/HW5_Fang_Siyu.ipynb\" target=\"_parent\"><img src=\"https://colab.research.google.com/assets/colab-badge.svg\" alt=\"Open In Colab\"/></a>"
      ]
    },
    {
      "cell_type": "markdown",
      "metadata": {
        "id": "aHN2H09A6SDv"
      },
      "source": [
        "# Install Magnitude Package"
      ]
    },
    {
      "cell_type": "code",
      "metadata": {
        "colab": {
          "base_uri": "https://localhost:8080/"
        },
        "id": "cHtw5QHUDqRE",
        "outputId": "6815b0c7-62cb-44d5-94e7-d0aaf4c91fdd"
      },
      "source": [
        "# Install Magnitude on Google Colab\n",
        "! echo \"Installing Magnitude.... (please wait, can take a while)\"\n",
        "! (curl https://raw.githubusercontent.com/plasticityai/magnitude/master/install-colab.sh | /bin/bash 1>/dev/null 2>/dev/null)\n",
        "! echo \"Done installing Magnitude.\""
      ],
      "execution_count": 1,
      "outputs": [
        {
          "output_type": "stream",
          "text": [
            "Installing Magnitude.... (please wait, can take a while)\n",
            "  % Total    % Received % Xferd  Average Speed   Time    Time     Time  Current\n",
            "                                 Dload  Upload   Total   Spent    Left  Speed\n",
            "100   137  100   137    0     0    769      0 --:--:-- --:--:-- --:--:--   765\n",
            "Done installing Magnitude.\n"
          ],
          "name": "stdout"
        }
      ]
    },
    {
      "cell_type": "markdown",
      "metadata": {
        "id": "ul_ulIMQ6YRD"
      },
      "source": [
        "# Download pre-trained file GoogleNews-vectors-negative300.magnitude"
      ]
    },
    {
      "cell_type": "code",
      "metadata": {
        "colab": {
          "base_uri": "https://localhost:8080/"
        },
        "id": "tvm0e8GfFAIU",
        "outputId": "b4663b4d-29d0-472d-ffb6-98e4a46b6cbf"
      },
      "source": [
        "!wget http://magnitude.plasticity.ai/word2vec/light/GoogleNews-vectors-negative300.magnitude"
      ],
      "execution_count": 2,
      "outputs": [
        {
          "output_type": "stream",
          "text": [
            "--2020-11-18 19:14:10--  http://magnitude.plasticity.ai/word2vec/light/GoogleNews-vectors-negative300.magnitude\n",
            "Resolving magnitude.plasticity.ai (magnitude.plasticity.ai)... 52.217.64.251\n",
            "Connecting to magnitude.plasticity.ai (magnitude.plasticity.ai)|52.217.64.251|:80... connected.\n",
            "HTTP request sent, awaiting response... 200 OK\n",
            "Length: 4211335168 (3.9G) [binary/octet-stream]\n",
            "Saving to: ‘GoogleNews-vectors-negative300.magnitude.1’\n",
            "\n",
            "GoogleNews-vectors- 100%[===================>]   3.92G  32.3MB/s    in 2m 20s  \n",
            "\n",
            "2020-11-18 19:16:29 (28.8 MB/s) - ‘GoogleNews-vectors-negative300.magnitude.1’ saved [4211335168/4211335168]\n",
            "\n"
          ],
          "name": "stdout"
        }
      ]
    },
    {
      "cell_type": "markdown",
      "metadata": {
        "id": "PU9guCmn7EkM"
      },
      "source": [
        "#  Constructing A Query-able Magnitude Vectors Object"
      ]
    },
    {
      "cell_type": "code",
      "metadata": {
        "colab": {
          "base_uri": "https://localhost:8080/"
        },
        "id": "bNhj7vfIMnnE",
        "outputId": "a7369f5e-5c1d-4a9d-ecb6-0e2e99cbed81"
      },
      "source": [
        "from pymagnitude import *\n",
        "file_path = \"GoogleNews-vectors-negative300.magnitude\"\n",
        "vectors = Magnitude(file_path)\n",
        "print(vectors.distance(\"cat\", \"dog\"))"
      ],
      "execution_count": 3,
      "outputs": [
        {
          "output_type": "stream",
          "text": [
            "0.69145405\n"
          ],
          "name": "stdout"
        }
      ]
    },
    {
      "cell_type": "markdown",
      "metadata": {
        "id": "_-jswsUL8Bsu"
      },
      "source": [
        "# Question 1"
      ]
    },
    {
      "cell_type": "code",
      "metadata": {
        "colab": {
          "base_uri": "https://localhost:8080/"
        },
        "id": "JhhlXsZRi-he",
        "outputId": "47ba52d3-5ad0-4772-99e7-bafec5e3f9b1"
      },
      "source": [
        "vectors.dim"
      ],
      "execution_count": 4,
      "outputs": [
        {
          "output_type": "execute_result",
          "data": {
            "text/plain": [
              "300"
            ]
          },
          "metadata": {
            "tags": []
          },
          "execution_count": 4
        }
      ]
    },
    {
      "cell_type": "markdown",
      "metadata": {
        "id": "jXF2hetw1X3t"
      },
      "source": [
        " The dimensionality of these word embeddings is 300."
      ]
    },
    {
      "cell_type": "markdown",
      "metadata": {
        "id": "ge_QHPiq8G32"
      },
      "source": [
        "# Question 2"
      ]
    },
    {
      "cell_type": "code",
      "metadata": {
        "colab": {
          "base_uri": "https://localhost:8080/"
        },
        "id": "v53T-qr2NGGE",
        "outputId": "9e26b038-79c9-4677-d270-976758621b49"
      },
      "source": [
        "vectors.most_similar(\"picnic\", topn = 5) "
      ],
      "execution_count": 5,
      "outputs": [
        {
          "output_type": "execute_result",
          "data": {
            "text/plain": [
              "[('picnics', 0.7400875),\n",
              " ('picnic_lunch', 0.7213739),\n",
              " ('Picnic', 0.700534),\n",
              " ('potluck_picnic', 0.6683274),\n",
              " ('picnic_supper', 0.65189123)]"
            ]
          },
          "metadata": {
            "tags": []
          },
          "execution_count": 5
        }
      ]
    },
    {
      "cell_type": "markdown",
      "metadata": {
        "id": "jIMnq8gF8K6X"
      },
      "source": [
        "The top-5 most similar words to picnic (not including picnic itself) is picnics, picnic_lunch, Picnic, potluck_picnic, picnic_supper."
      ]
    },
    {
      "cell_type": "markdown",
      "metadata": {
        "id": "8ii7BrTe1N6d"
      },
      "source": [
        "visualization"
      ]
    },
    {
      "cell_type": "code",
      "metadata": {
        "colab": {
          "base_uri": "https://localhost:8080/",
          "height": 313
        },
        "id": "Zzmzxkm3gWAh",
        "outputId": "9b9cc506-b8b6-40b9-8df3-fe4e94e3ee92"
      },
      "source": [
        "from matplotlib import pyplot as plt\n",
        "result=vectors.most_similar(\"picnic\", topn = 5) \n",
        "word=[]\n",
        "sim=[]\n",
        "for i in range(len(result)):\n",
        "    word.append(result[i][0])\n",
        "    sim.append(result[i][1])\n",
        "plt.scatter(word,sim,color=\"blue\")\n",
        "plt.xticks(rotation=45)\n",
        "plt.show()"
      ],
      "execution_count": 8,
      "outputs": [
        {
          "output_type": "display_data",
          "data": {
            "image/png": "[encoded data removed]",
            "text/plain": [
              "<Figure size 432x288 with 1 Axes>"
            ]
          },
          "metadata": {
            "tags": [],
            "needs_background": "light"
          }
        }
      ]
    },
    {
      "cell_type": "markdown",
      "metadata": {
        "id": "MN3kWL4J8e84"
      },
      "source": [
        "# Question 3"
      ]
    },
    {
      "cell_type": "code",
      "metadata": {
        "colab": {
          "base_uri": "https://localhost:8080/",
          "height": 37
        },
        "id": "w_HW__WMkqYS",
        "outputId": "69639cf8-49a1-4a6d-d754-950803f2b5e4"
      },
      "source": [
        "vectors.doesnt_match( ['tissue', 'papyrus','manila', 'newsprint', 'parchment', 'gazette'])"
      ],
      "execution_count": 9,
      "outputs": [
        {
          "output_type": "execute_result",
          "data": {
            "application/vnd.google.colaboratory.intrinsic+json": {
              "type": "string"
            },
            "text/plain": [
              "'tissue'"
            ]
          },
          "metadata": {
            "tags": []
          },
          "execution_count": 9
        }
      ]
    },
    {
      "cell_type": "markdown",
      "metadata": {
        "id": "EpFkpQ6-1keo"
      },
      "source": [
        "The word 'tissue' is not like the others."
      ]
    },
    {
      "cell_type": "markdown",
      "metadata": {
        "id": "NfYLBavg8iWO"
      },
      "source": [
        "# Question 4"
      ]
    },
    {
      "cell_type": "code",
      "metadata": {
        "colab": {
          "base_uri": "https://localhost:8080/"
        },
        "id": "7NTtQunPk7Q7",
        "outputId": "6029b978-5b5a-481b-eaf4-1c6ebaf966aa"
      },
      "source": [
        "vectors.most_similar(positive = [\"throw\", \"leg\"], negative = [\"jump\"],topn=1)"
      ],
      "execution_count": 14,
      "outputs": [
        {
          "output_type": "execute_result",
          "data": {
            "text/plain": [
              "[('forearm', 0.48294652)]"
            ]
          },
          "metadata": {
            "tags": []
          },
          "execution_count": 14
        }
      ]
    },
    {
      "cell_type": "markdown",
      "metadata": {
        "id": "aaODF4Un1KHB"
      },
      "source": [
        "visualize the similar word"
      ]
    },
    {
      "cell_type": "code",
      "metadata": {
        "colab": {
          "base_uri": "https://localhost:8080/",
          "height": 328
        },
        "id": "fEKEZYu6XjnY",
        "outputId": "9d3217c2-3179-430f-a748-3836e315d05e"
      },
      "source": [
        "result4=vectors.most_similar(positive = [\"throw\", \"leg\"], negative = [\"jump\"]) \n",
        "word = []\n",
        "sim=[]\n",
        "for i in range(len(result4)):\n",
        "    word.append(result4[i][0])\n",
        "    sim.append(result4[i][1])\n",
        "plt.scatter(word,sim,color=\"blue\")\n",
        "plt.xticks(rotation=45)\n",
        "plt.show()                             "
      ],
      "execution_count": 22,
      "outputs": [
        {
          "output_type": "display_data",
          "data": {
            "image/png": "[encoded data removed]",
            "text/plain": [
              "<Figure size 432x288 with 1 Axes>"
            ]
          },
          "metadata": {
            "tags": [],
            "needs_background": "light"
          }
        }
      ]
    }
  ]
}